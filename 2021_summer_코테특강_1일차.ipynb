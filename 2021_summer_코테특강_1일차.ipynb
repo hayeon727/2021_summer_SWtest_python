{
  "nbformat": 4,
  "nbformat_minor": 0,
  "metadata": {
    "colab": {
      "name": "2021_summer_코테특강_1일차.ipynb",
      "provenance": [],
      "collapsed_sections": [
        "ytBxITHRbe7b",
        "Ut7D5PTFf8ry"
      ],
      "authorship_tag": "ABX9TyOcFcWmkDYm2LKHbzAcZ4/h",
      "include_colab_link": true
    },
    "kernelspec": {
      "name": "python3",
      "display_name": "Python 3"
    },
    "language_info": {
      "name": "python"
    }
  },
  "cells": [
    {
      "cell_type": "markdown",
      "metadata": {
        "id": "view-in-github",
        "colab_type": "text"
      },
      "source": [
        "<a href=\"https://colab.research.google.com/github/hayeon727/2021_summer_SWtest_python/blob/main/2021_summer_%EC%BD%94%ED%85%8C%ED%8A%B9%EA%B0%95_1%EC%9D%BC%EC%B0%A8.ipynb\" target=\"_parent\"><img src=\"https://colab.research.google.com/assets/colab-badge.svg\" alt=\"Open In Colab\"/></a>"
      ]
    },
    {
      "cell_type": "markdown",
      "metadata": {
        "id": "eyoVPWxJRwNi"
      },
      "source": [
        "# 2021 하계 SW코딩테스트 파이썬 심화\n",
        "## 1일차\n",
        "### 1. 파이썬 기초 학습 점검"
      ]
    },
    {
      "cell_type": "markdown",
      "metadata": {
        "id": "2lfyqWj-bmOe"
      },
      "source": [
        "#### 1) 파이썬 자료형"
      ]
    },
    {
      "cell_type": "code",
      "metadata": {
        "id": "0qAA5gOoPB34"
      },
      "source": [
        "# <변수1>, <변수2> = <값1>, <값2>\n",
        "# 여러개 변수에 한번에 각각 값 할당 가능 -> 파이썬 언어만의 특징\n",
        "a, b = 3, 4"
      ],
      "execution_count": null,
      "outputs": []
    },
    {
      "cell_type": "code",
      "metadata": {
        "id": "9S1mCAY-SvZf"
      },
      "source": [
        "# 나열 자료형\n",
        "\n",
        "# 리스트[] : 삽입, 삭제 자유로움.\n",
        "# 튜플() : '읽기'만. 리스트에 비해 부족.\n",
        "# 집합{} : 구현이 어렵지는 않음. '해시테이블'\n",
        "# 딕셔너리{:,:} : 딕셔너리도 '해시테이블'형태로 구성."
      ],
      "execution_count": null,
      "outputs": []
    },
    {
      "cell_type": "code",
      "metadata": {
        "colab": {
          "base_uri": "https://localhost:8080/",
          "height": 35
        },
        "id": "qp72drZZTgjY",
        "outputId": "2985c117-b9fb-4501-b2d4-ae2491bf939b"
      },
      "source": [
        "# 연산자\n",
        "\n",
        "# +, -, *, / : 사칙연산\n",
        "# **(거듭제곱), //(정수나누기), %(정수나머지)\n",
        "\n",
        "\n",
        "# 집합연산자 - 차집합(-)\n",
        "\n",
        "\"abc\"*2"
      ],
      "execution_count": null,
      "outputs": [
        {
          "output_type": "execute_result",
          "data": {
            "application/vnd.google.colaboratory.intrinsic+json": {
              "type": "string"
            },
            "text/plain": [
              "'abcabc'"
            ]
          },
          "metadata": {
            "tags": []
          },
          "execution_count": 8
        }
      ]
    },
    {
      "cell_type": "markdown",
      "metadata": {
        "id": "ZzCJvTWkbqpm"
      },
      "source": [
        "#### 2) 사용자 입력과 출력문"
      ]
    },
    {
      "cell_type": "code",
      "metadata": {
        "id": "Gn9un2nsUB5k"
      },
      "source": [
        "# 사용자 입력문 input()\n",
        "# 이에 대한 모든 형태를 잘 알고있어야 코테 통과 가능.\n",
        "\n",
        "# input(<prompt>)\n",
        "#   <prompt>는 생략 가능. 생략하면 출력X\n",
        "#   input()의 결과물은 문자열로 한줄의 입력을 받음\n",
        "\n",
        "# 한줄로 입력하기 : input()\n",
        "# 입력된 문자열을 공백으로 분리 : input().split()\n",
        "# 여러 개의 같은 자료형 입력 : list(map(int, input().split())\n",
        "# 정해진 개수의 같은 자료형 입력 : a, b = map(int, input().split())"
      ],
      "execution_count": null,
      "outputs": []
    },
    {
      "cell_type": "code",
      "metadata": {
        "colab": {
          "base_uri": "https://localhost:8080/"
        },
        "id": "t1dvfOrAV2QE",
        "outputId": "43ac07c4-3f73-47b7-e8d0-a5c201c02a9b"
      },
      "source": [
        "# ㄴ 입력된 문자열을 \"공백\"으로 분리\n",
        "s = input()"
      ],
      "execution_count": null,
      "outputs": [
        {
          "output_type": "stream",
          "text": [
            "나의 이름은 홍길동\n"
          ],
          "name": "stdout"
        }
      ]
    },
    {
      "cell_type": "code",
      "metadata": {
        "colab": {
          "base_uri": "https://localhost:8080/",
          "height": 35
        },
        "id": "aYQK1GnZWGBa",
        "outputId": "2f43c934-7486-48f6-8730-a13cb06652f0"
      },
      "source": [
        "s"
      ],
      "execution_count": null,
      "outputs": [
        {
          "output_type": "execute_result",
          "data": {
            "application/vnd.google.colaboratory.intrinsic+json": {
              "type": "string"
            },
            "text/plain": [
              "'나의 이름은 홍길동'"
            ]
          },
          "metadata": {
            "tags": []
          },
          "execution_count": 15
        }
      ]
    },
    {
      "cell_type": "code",
      "metadata": {
        "colab": {
          "base_uri": "https://localhost:8080/"
        },
        "id": "DHk7tzU-WIA8",
        "outputId": "f0c4d25b-9dbb-45cd-c8ae-f761071b273a"
      },
      "source": [
        "t = input().split()"
      ],
      "execution_count": null,
      "outputs": [
        {
          "output_type": "stream",
          "text": [
            "나의 이름은 홍길동\n"
          ],
          "name": "stdout"
        }
      ]
    },
    {
      "cell_type": "code",
      "metadata": {
        "colab": {
          "base_uri": "https://localhost:8080/"
        },
        "id": "hx7OoQQ-WLjq",
        "outputId": "46a43ae0-0cbc-4bda-e536-3f9b025ba684"
      },
      "source": [
        "t"
      ],
      "execution_count": null,
      "outputs": [
        {
          "output_type": "execute_result",
          "data": {
            "text/plain": [
              "['나의', '이름은', '홍길동']"
            ]
          },
          "metadata": {
            "tags": []
          },
          "execution_count": 13
        }
      ]
    },
    {
      "cell_type": "code",
      "metadata": {
        "colab": {
          "base_uri": "https://localhost:8080/"
        },
        "id": "viRQU8BrWNqU",
        "outputId": "0c782c34-79d7-496a-9b3e-26a819f034e6"
      },
      "source": [
        "# ㄴ 여러 개의 같은 자료형 입력\n",
        "s = list(map(int, input().split()))"
      ],
      "execution_count": null,
      "outputs": [
        {
          "output_type": "stream",
          "text": [
            "1 3 2 4 5 7\n"
          ],
          "name": "stdout"
        }
      ]
    },
    {
      "cell_type": "code",
      "metadata": {
        "colab": {
          "base_uri": "https://localhost:8080/"
        },
        "id": "CwHG9yBVWzVz",
        "outputId": "023d8abd-ce9e-4c42-982c-d107d786af40"
      },
      "source": [
        "s"
      ],
      "execution_count": null,
      "outputs": [
        {
          "output_type": "execute_result",
          "data": {
            "text/plain": [
              "[1, 3, 2, 4, 5, 7]"
            ]
          },
          "metadata": {
            "tags": []
          },
          "execution_count": 17
        }
      ]
    },
    {
      "cell_type": "code",
      "metadata": {
        "colab": {
          "base_uri": "https://localhost:8080/"
        },
        "id": "f8SQb2nNW1mP",
        "outputId": "053b8f57-3863-4379-c24f-45b81f8ee054"
      },
      "source": [
        "s = input().split()"
      ],
      "execution_count": null,
      "outputs": [
        {
          "output_type": "stream",
          "text": [
            "1 3 2 4 5 7\n"
          ],
          "name": "stdout"
        }
      ]
    },
    {
      "cell_type": "code",
      "metadata": {
        "colab": {
          "base_uri": "https://localhost:8080/"
        },
        "id": "_g3LNHejW3ra",
        "outputId": "78d9210e-d2df-42a0-9ccf-3c3d321391da"
      },
      "source": [
        "s"
      ],
      "execution_count": null,
      "outputs": [
        {
          "output_type": "execute_result",
          "data": {
            "text/plain": [
              "['1', '3', '2', '4', '5', '7']"
            ]
          },
          "metadata": {
            "tags": []
          },
          "execution_count": 19
        }
      ]
    },
    {
      "cell_type": "code",
      "metadata": {
        "id": "4ihQV2OKW5Ev"
      },
      "source": [
        "# 출력문\n",
        "\n",
        "# print(<문자열1>, end=<문자열2>)\n",
        "#   <문자열1> 출력 후 줄바꿈을 하지 않고, <문자열2>를 출력\n",
        "#   (여러 줄의 pirnt() 문장으로 한 줄 출력)"
      ],
      "execution_count": null,
      "outputs": []
    },
    {
      "cell_type": "code",
      "metadata": {
        "colab": {
          "base_uri": "https://localhost:8080/"
        },
        "id": "tJZr5AvpW_z9",
        "outputId": "a7fc3622-0862-4f97-e8cc-029d44b35c12"
      },
      "source": [
        "for i in range(1, 6):\n",
        "    print(i)"
      ],
      "execution_count": null,
      "outputs": [
        {
          "output_type": "stream",
          "text": [
            "1\n",
            "2\n",
            "3\n",
            "4\n",
            "5\n"
          ],
          "name": "stdout"
        }
      ]
    },
    {
      "cell_type": "code",
      "metadata": {
        "colab": {
          "base_uri": "https://localhost:8080/"
        },
        "id": "NjHXeSKvXjp1",
        "outputId": "c2dea879-8ce7-4a97-bb61-fd69bcd9726f"
      },
      "source": [
        "for i in range(1, 5):\n",
        "    print(i, end=\" \")"
      ],
      "execution_count": null,
      "outputs": [
        {
          "output_type": "stream",
          "text": [
            "1 2 3 4 "
          ],
          "name": "stdout"
        }
      ]
    },
    {
      "cell_type": "code",
      "metadata": {
        "colab": {
          "base_uri": "https://localhost:8080/"
        },
        "id": "1W0t5pOpXmaD",
        "outputId": "da58c6c7-13f7-43b3-bdc7-f5adf774dae7"
      },
      "source": [
        "print(5)"
      ],
      "execution_count": null,
      "outputs": [
        {
          "output_type": "stream",
          "text": [
            "5\n"
          ],
          "name": "stdout"
        }
      ]
    },
    {
      "cell_type": "code",
      "metadata": {
        "id": "NH9oDuggXnsM"
      },
      "source": [
        "# 문자열 형식화\n",
        "\n",
        "# 문자열의 형식을 지정하여 문자열로 만드는 방법\n",
        "#   숫자의 자릿수가 필요한 경우\n",
        "#   다양한 형식의 표현이 필요한 경우\n",
        "#   위치 맞춤이 필요한 경우\n",
        "\n",
        "# 문자열 형식 문법\n",
        "#   <형식 문자열>%(인수 리스트)"
      ],
      "execution_count": null,
      "outputs": []
    },
    {
      "cell_type": "code",
      "metadata": {
        "colab": {
          "base_uri": "https://localhost:8080/",
          "height": 35
        },
        "id": "NFGF8CjSX9TY",
        "outputId": "d0b8f8f7-2930-45ac-e2f6-0da7f81dedb9"
      },
      "source": [
        "\"문자열 %s 문자열\"%(10)"
      ],
      "execution_count": null,
      "outputs": [
        {
          "output_type": "execute_result",
          "data": {
            "application/vnd.google.colaboratory.intrinsic+json": {
              "type": "string"
            },
            "text/plain": [
              "'문자열 10 문자열'"
            ]
          },
          "metadata": {
            "tags": []
          },
          "execution_count": 30
        }
      ]
    },
    {
      "cell_type": "code",
      "metadata": {
        "colab": {
          "base_uri": "https://localhost:8080/",
          "height": 35
        },
        "id": "NGIGfQ1qY00S",
        "outputId": "0574a944-b88d-4083-d48f-7d80495093d7"
      },
      "source": [
        "\"디지털 시간 %02d:%02d:%02d\"%(11, 12, 7)"
      ],
      "execution_count": null,
      "outputs": [
        {
          "output_type": "execute_result",
          "data": {
            "application/vnd.google.colaboratory.intrinsic+json": {
              "type": "string"
            },
            "text/plain": [
              "'디지털 시간 11:12:07'"
            ]
          },
          "metadata": {
            "tags": []
          },
          "execution_count": 34
        }
      ]
    },
    {
      "cell_type": "code",
      "metadata": {
        "id": "KFtnfUq2ZYgO"
      },
      "source": [
        "# 문자열 형식\n",
        "#   출력 형식 지정 {<인수 위치 또는 인수명>:<정렬 및 형식>}\n",
        "\n",
        "# < : 왼쪽 맞춤\n",
        "# > : 오른쪽 맞춤\n",
        "# ^ : 가운데 맞춤 -> 편리.\n",
        "# 숫자 : 글자수\n",
        "# 소수f : 소수점 표현"
      ],
      "execution_count": null,
      "outputs": []
    },
    {
      "cell_type": "markdown",
      "metadata": {
        "id": "ytBxITHRbe7b"
      },
      "source": [
        "#### 3) 조건문"
      ]
    },
    {
      "cell_type": "code",
      "metadata": {
        "id": "oCReEDsYahvI"
      },
      "source": [
        "# in -> 리스트에 사용하면 for문 반복할수록 '시.간.초.과'\n",
        "# 집합, 딕셔너리로 사용."
      ],
      "execution_count": null,
      "outputs": []
    },
    {
      "cell_type": "code",
      "metadata": {
        "id": "0hppVk43b0tH"
      },
      "source": [
        "# in 연산자\n",
        "\n",
        "# x not in <나열형 자료> = not x in <나열형 자료>\n",
        "#   = not (x in <나열형 자료) : 이런 의미 (이건 코드X)"
      ],
      "execution_count": null,
      "outputs": []
    },
    {
      "cell_type": "markdown",
      "metadata": {
        "id": "Ut7D5PTFf8ry"
      },
      "source": [
        "#### 4) 함수"
      ]
    },
    {
      "cell_type": "code",
      "metadata": {
        "id": "6d7NdMvVcHLb"
      },
      "source": [
        "def <함수이름>(<매개변수 리스트>):\n",
        "    <수행문>\n",
        "    return <반환값>"
      ],
      "execution_count": null,
      "outputs": []
    },
    {
      "cell_type": "markdown",
      "metadata": {
        "id": "-WLlPViIycoa"
      },
      "source": [
        "### 2. 클래스\n",
        "#### 1) 클래스"
      ]
    },
    {
      "cell_type": "code",
      "metadata": {
        "id": "JwrOUkEygEJ7"
      },
      "source": [
        "# 전역변수를 안쓰는 방법 중 하나 - 클래스\n",
        "\n",
        "# 불필요한 정보의 숨김 : 클래스 안에 정의된 변수와 메소드들은 클래스 객체를 통해서만 엑세스 가능.\n",
        "# 같은 이름의 메소드 - 객체가 달라지면 그 작동도 달리할 수 있음!!!!!\n",
        "# 파이썬에서는 다양한 역할을 클래스 메소드를 통해서 처리 가능.\n",
        "\n",
        "# 함수 기반으로 대규모 코드를 짜기엔, 함수 이름만 너무 많음 -> 객체지향이 대규모에서는 필수."
      ],
      "execution_count": null,
      "outputs": []
    },
    {
      "cell_type": "code",
      "metadata": {
        "id": "K-kOAweAyzw9"
      },
      "source": [
        "# 클래스의 필요성\n",
        "\n",
        "# 클래스가 없어도 프로그램을 작성하고 동작하는 데는 전혀 문제가 없음\n",
        "\n",
        "# 장점\n",
        "# 1) 데이터의 은닉 : 객체에 관련없는 곳에서 불필요한 함수나 변수 노출 안됨\n",
        "# 2) 클래스에 연관된 정보 통합\n",
        "# 3) 라이브러리로 제작\n",
        "# 4) 파이썬의 특징으로 인한 상속 없이 상속 개념 사용 가능.\n",
        "\n",
        "# 단점 : 클래스 선언에 따라 들여쓰기 단계가 한 수준 증가하여 가독성 하락"
      ],
      "execution_count": null,
      "outputs": []
    },
    {
      "cell_type": "code",
      "metadata": {
        "id": "FOH_8Dbp1tHG"
      },
      "source": [
        "# 클래스 정의 : 블록으로 지정되어 선언\n",
        "# ㄴ <클래스명 : 객체를 생성할 때 사용되는 이름\n",
        "# ㄴ <메소드리스트> : 클래스 객체를 통해서만 사용할 수 있는 변수들\n",
        "\n",
        "# class <클래스명>:\n",
        "#   def <메소드1>(self, <함수인자>):\n",
        "#       <메소드1 수행문>"
      ],
      "execution_count": null,
      "outputs": []
    },
    {
      "cell_type": "code",
      "metadata": {
        "id": "VQNm3zGu3QYR"
      },
      "source": [
        "# 생성자 : 일반적으로 \"멤버 변수\"를 지정할 때 사용\n",
        "# init 양족에 언더스코어 두 글자를 붙임\n",
        "# __init__(self, <함수인자>)"
      ],
      "execution_count": null,
      "outputs": []
    },
    {
      "cell_type": "code",
      "metadata": {
        "colab": {
          "base_uri": "https://localhost:8080/"
        },
        "id": "rusV-bZs3gPf",
        "outputId": "51299657-7680-4e36-98c2-52c470b03d0d"
      },
      "source": [
        "class myClass:\n",
        "    def __init__(self, initValue):\n",
        "        self.r = initValue\n",
        "    def foo(self):\n",
        "        print(self.r)\n",
        "\n",
        "a = myClass(10)\n",
        "a.foo()\n",
        "myClass.foo(a)  # same as 'a.foo()'"
      ],
      "execution_count": null,
      "outputs": [
        {
          "output_type": "stream",
          "text": [
            "10\n",
            "10\n"
          ],
          "name": "stdout"
        }
      ]
    },
    {
      "cell_type": "code",
      "metadata": {
        "id": "8sTFgujI4Wge"
      },
      "source": [
        "# 클래스의 상속\n",
        "\n",
        "# 부모의 클래스에서 정의한 메소드들을 상속 받은 클래스에서 정의하지 않아도 사용 가능\n",
        "#   ㄴ <부모 클래스> : 메소드들을 상속하는 클래스\n",
        "\n",
        "# class <클래스명>(<부모 클래스>):\n",
        "\n",
        "# 실제로 파이썬에서 '상속'까지 쓰는 경우는 거의 없음."
      ],
      "execution_count": null,
      "outputs": []
    },
    {
      "cell_type": "code",
      "metadata": {
        "colab": {
          "base_uri": "https://localhost:8080/"
        },
        "id": "CR1iYlju7mcg",
        "outputId": "e15f74a7-d69b-42c8-d3b8-df4a9271566d"
      },
      "source": [
        "class MyClass:\n",
        "    classVar = 0\n",
        "    def __init__(self, initValue):\n",
        "        print(\"MyClass 생성자가 호출되었습니다.\")\n",
        "        self.r = initValue\n",
        "        \n",
        "    def foo():\n",
        "        print(\"MyClass에 오신 것을 환영합니다.\")\n",
        "\n",
        "    def foo1(self):\n",
        "        print(\"MyClass 객체를 이용해야만 호출됩니다.\")\n",
        "\n",
        "    def printClass(self, mesg):\n",
        "        print(\"%s : r = %d\"%(mesg, self.r))\n",
        "\n",
        "# 객체를 하나 생성합니다.\n",
        "a = MyClass(10)\n",
        "\n",
        "# 클래스 함수를 호출합니다.\n",
        "MyClass.foo()\n",
        "\n",
        "# 객체 메소드를 호출합니다.\n",
        "a.foo1()\n",
        "MyClass.foo1(a)\n",
        "\n",
        "a.printClass(\"멤버변수 출력\")\n",
        "b = MyClass(20)\n",
        "print(a.classVar)\n",
        "print(b.classVar)\n",
        "a.classVar = 10             # 멤버 변수\n",
        "#MyClass.classVar = 10      # 클래스 변수\n",
        "print(a.classVar)\n",
        "print(b.classVar)"
      ],
      "execution_count": null,
      "outputs": [
        {
          "output_type": "stream",
          "text": [
            "MyClass 생성자가 호출되었습니다.\n",
            "MyClass에 오신 것을 환영합니다.\n",
            "MyClass 객체를 이용해야만 호출됩니다.\n",
            "MyClass 객체를 이용해야만 호출됩니다.\n",
            "멤버변수 출력 : r = 10\n",
            "MyClass 생성자가 호출되었습니다.\n",
            "0\n",
            "0\n",
            "10\n",
            "0\n"
          ],
          "name": "stdout"
        }
      ]
    },
    {
      "cell_type": "code",
      "metadata": {
        "colab": {
          "base_uri": "https://localhost:8080/"
        },
        "id": "6WgFcYdP8Vgi",
        "outputId": "f681168a-2f5f-4a28-909c-9e3ec819372f"
      },
      "source": [
        "class MyQueue:\n",
        "    # 생성자\n",
        "    def __init__(self):\n",
        "        self.data = [ ]\n",
        "\n",
        "    # get()\n",
        "    def get(self):\n",
        "        return self.data.pop(0) # 첫 번째 데이터 제거하는 함수 .pop(0)\n",
        "\n",
        "    def put(self, newItem):\n",
        "        self.data.append(newItem)\n",
        "\n",
        "    def empty(self):\n",
        "        #if length(data) == 0: \n",
        "        #   print(\"비었습니다.\")\n",
        "        #else:\n",
        "        #   printf(\"채워져 있습니다.\")\n",
        "\n",
        "        # 위는 내가 써봤는데 틀린 코드\n",
        "        return len(self.data) == 0\n",
        "\n",
        "    def qsize(self):\n",
        "        # print(length(data)) -> 틀림\n",
        "        return len(self.data)\n",
        "\n",
        "queue = MyQueue()\n",
        "\n",
        "queue.put(\"홍길동\")\n",
        "queue.put(10)\n",
        "queue.put(20)\n",
        "\n",
        "print(queue.empty())\n",
        "print(queue.qsize())\n",
        "\n",
        "while not queue.empty():\n",
        "    print(queue.get())\n",
        "    # 선입선출 FIFO구조"
      ],
      "execution_count": null,
      "outputs": [
        {
          "output_type": "stream",
          "text": [
            "False\n",
            "3\n",
            "홍길동\n",
            "10\n",
            "20\n"
          ],
          "name": "stdout"
        }
      ]
    },
    {
      "cell_type": "markdown",
      "metadata": {
        "id": "QbGVM1TuJTH6"
      },
      "source": [
        "### 3. 모듈\n",
        "## 1) 모듈"
      ]
    },
    {
      "cell_type": "markdown",
      "metadata": {
        "id": "-bpTnkeiKW8B"
      },
      "source": [
        "[모듈을 가져오기 (import)]\n",
        "\n",
        "- import <모듈명1>\n",
        "- from <모듈명2> import <함수명1>, <함수명2>, ...\n",
        "- from <모듈명3> import *       # <함수명3>이 정의된 모듈일 경우\n",
        "***\n",
        "- <모듈명1>, <함수>(...)       # <모듈명1>을 기재 필수\n",
        "- <함수명1>(...)              # <모듈명2>를 기재할 필요가 없음\n",
        "- <함수명3>(...)              # <모듈명3>을 기재할 필요가 없음"
      ]
    },
    {
      "cell_type": "code",
      "metadata": {
        "id": "SrYMfmPkJSzt"
      },
      "source": [
        "# 모듈을 가져오기 (import)\n",
        "\n",
        "# import <모듈명1>\n",
        "# from <모듈명2> import <함수명1>, <함수명2>, ...\n",
        "# from <모듈명3> import *       # <함수명3>이 정의된 모듈일 경우\n",
        "\n",
        "#<모듈명1>, <함수>(...)       # <모듈명1>을 기재 필수\n",
        "#<함수명1>(...)              # <모듈명2>를 기재할 필요가 없음\n",
        "#<함수명3>(...)              # <모듈명3>을 기재할 필요가 없음"
      ],
      "execution_count": null,
      "outputs": []
    },
    {
      "cell_type": "code",
      "metadata": {
        "id": "QMFN3v3jDvYN"
      },
      "source": [
        "# 모듈 파일에 실행되는 명령문이 없도록 작성\n",
        "# if __name__ == \"__main__\" <-을 이용하여 해당 명령문들을 격리"
      ],
      "execution_count": null,
      "outputs": []
    },
    {
      "cell_type": "markdown",
      "metadata": {
        "id": "_QyYC3i_LqQP"
      },
      "source": [
        "#### 2) itertools"
      ]
    },
    {
      "cell_type": "code",
      "metadata": {
        "id": "6A0bUpAJLbOy"
      },
      "source": [
        "# 반복되는 수행에 대한 것을 반복함수로 처리\n",
        "\n",
        "# 경우의 수를 계산하는 것 외에 모든 경우를 처리할 때 유용\n",
        "# product(p, q) : p에 있는 아이템과 q에 있는 아이템들을 카테시안 곱(p원소개수*q원소개수) 수행\n",
        "# accuulate(p) : p에 있는 아이템을 차레대로 더함 (누적)\n",
        "# permutations(p[, r]) : p에 있는 아이템을 r길이만큼 순열\n",
        "# combinations(p, r) ㅣ p에 있는 아이템들을 r만큼 선택하는 조합"
      ],
      "execution_count": null,
      "outputs": []
    },
    {
      "cell_type": "code",
      "metadata": {
        "colab": {
          "base_uri": "https://localhost:8080/"
        },
        "id": "6fRweztqNOEt",
        "outputId": "19c7e6b5-10ea-4e40-d3f7-71ae048902b4"
      },
      "source": [
        "from itertools import combinations\n",
        "\n",
        "friends = [\"홍길동\", \"성춘향\", \"이몽룡\"]\n",
        "for k in combinations(friends, 2):\n",
        "    print(k)"
      ],
      "execution_count": null,
      "outputs": [
        {
          "output_type": "stream",
          "text": [
            "('홍길동', '성춘향')\n",
            "('홍길동', '이몽룡')\n",
            "('성춘향', '이몽룡')\n"
          ],
          "name": "stdout"
        }
      ]
    },
    {
      "cell_type": "markdown",
      "metadata": {
        "id": "a0qFVWzEN6eG"
      },
      "source": [
        "#### 3) random\n",
        "\n",
        "- random 모듈은 난수를 발생시키는 모듈로 시뮬레이션, 테스트 등에서 사용\n",
        "---\n",
        "- seed(<시드값>) : 난수를 발생시키는 <시드값> 설정, <시드값>이 같으면 항상 같은 난수 시퀀스 발생 - 오류 발생 원인을 찾기에 용이\n",
        "- randrange(stop) : 0~stop-1 수를 발생 (정수)\n",
        "- randrange(start, stop[, step[) : start~stop-1 수를 발생시킴 (step이 지정된 경우 건너뛴 수는 발생 안됨)\n",
        "- choice(list) : list에서 한 개를 임의로 선택\n",
        "- shuffle(list) : list에 있는 아이템들을 임의로 섞음 (튜플, 문자열에서 허용 안됨)"
      ]
    },
    {
      "cell_type": "code",
      "metadata": {
        "colab": {
          "base_uri": "https://localhost:8080/",
          "height": 232
        },
        "id": "WBltl_vkNWMW",
        "outputId": "8ddfac23-d461-48b0-b40b-52c8c4fbea84"
      },
      "source": [
        "import random\n",
        "\n",
        "numbers = [ k for k in range(1, 10)]\n",
        "random.shuffle(numbers)\n",
        "numbers = number[:3]"
      ],
      "execution_count": null,
      "outputs": [
        {
          "output_type": "error",
          "ename": "NameError",
          "evalue": "ignored",
          "traceback": [
            "\u001b[0;31m---------------------------------------------------------------------------\u001b[0m",
            "\u001b[0;31mNameError\u001b[0m                                 Traceback (most recent call last)",
            "\u001b[0;32m<ipython-input-78-820558d00ede>\u001b[0m in \u001b[0;36m<module>\u001b[0;34m()\u001b[0m\n\u001b[1;32m      3\u001b[0m \u001b[0mnumbers\u001b[0m \u001b[0;34m=\u001b[0m \u001b[0;34m[\u001b[0m \u001b[0mk\u001b[0m \u001b[0;32mfor\u001b[0m \u001b[0mk\u001b[0m \u001b[0;32min\u001b[0m \u001b[0mrange\u001b[0m\u001b[0;34m(\u001b[0m\u001b[0;36m1\u001b[0m\u001b[0;34m,\u001b[0m \u001b[0;36m10\u001b[0m\u001b[0;34m)\u001b[0m\u001b[0;34m]\u001b[0m\u001b[0;34m\u001b[0m\u001b[0;34m\u001b[0m\u001b[0m\n\u001b[1;32m      4\u001b[0m \u001b[0mrandom\u001b[0m\u001b[0;34m.\u001b[0m\u001b[0mshuffle\u001b[0m\u001b[0;34m(\u001b[0m\u001b[0mnumbers\u001b[0m\u001b[0;34m)\u001b[0m\u001b[0;34m\u001b[0m\u001b[0;34m\u001b[0m\u001b[0m\n\u001b[0;32m----> 5\u001b[0;31m \u001b[0mnumbers\u001b[0m \u001b[0;34m=\u001b[0m \u001b[0mnumber\u001b[0m\u001b[0;34m[\u001b[0m\u001b[0;34m:\u001b[0m\u001b[0;36m3\u001b[0m\u001b[0;34m]\u001b[0m\u001b[0;34m\u001b[0m\u001b[0;34m\u001b[0m\u001b[0m\n\u001b[0m",
            "\u001b[0;31mNameError\u001b[0m: name 'number' is not defined"
          ]
        }
      ]
    },
    {
      "cell_type": "code",
      "metadata": {
        "colab": {
          "base_uri": "https://localhost:8080/"
        },
        "id": "L0O6jqTLQ3LC",
        "outputId": "43dd6fc4-6471-4aec-9c93-392af3c97615"
      },
      "source": [
        "# 임의의 수 리스트 만들기\n",
        "# random 모듈을 이용해서 임의의 수 리스트를 만들기\n",
        "\n",
        "import random\n",
        "\n",
        "x = [random.randrange(1, 101) for _ in range(10)]\n",
        "print(x)"
      ],
      "execution_count": null,
      "outputs": [
        {
          "output_type": "stream",
          "text": [
            "[14, 63, 47, 23, 62, 89, 34, 8, 91, 77]\n"
          ],
          "name": "stdout"
        }
      ]
    },
    {
      "cell_type": "markdown",
      "metadata": {
        "id": "Y_FSTESvRPua"
      },
      "source": [
        "#### 4) heapq (힙큐)\n",
        "\n",
        "- heapq 모듈은 별도의 자료구조를 사용하지 않고, 리스트를 이용해서 최소힙(min heap)을 사용할 수 있도록 제공\n",
        "- 최소힙 : 부모의 값은 자식의 노드값보다 작다. 부모는 최대 2개의 자식을 가질 수 있다.\n",
        "---\n",
        "- eapify(list) : list를 힙 구조로 생성\n",
        "- heappush(heap, x) : heap에 x 아이템을 추가\n",
        "- heappop(heap) : heap에서 제일 작은 아이템 가져오기"
      ]
    },
    {
      "cell_type": "code",
      "metadata": {
        "colab": {
          "base_uri": "https://localhost:8080/",
          "height": 266
        },
        "id": "-_kltINdRL19",
        "outputId": "9dea369c-4eeb-4b68-b490-07721c5c243d"
      },
      "source": [
        "import heapq\n",
        "\n",
        "h = list(map(int, \"숫자입력 : '\"))\n",
        "heapq.heapify(h)\n",
        "print([ heapq.heappop(h) for _ in range(len(h))])"
      ],
      "execution_count": null,
      "outputs": [
        {
          "output_type": "error",
          "ename": "ValueError",
          "evalue": "ignored",
          "traceback": [
            "\u001b[0;31m---------------------------------------------------------------------------\u001b[0m",
            "\u001b[0;31mValueError\u001b[0m                                Traceback (most recent call last)",
            "\u001b[0;32m<ipython-input-81-da4445d40371>\u001b[0m in \u001b[0;36m<module>\u001b[0;34m()\u001b[0m\n\u001b[1;32m      1\u001b[0m \u001b[0;32mimport\u001b[0m \u001b[0mheapq\u001b[0m\u001b[0;34m\u001b[0m\u001b[0;34m\u001b[0m\u001b[0m\n\u001b[1;32m      2\u001b[0m \u001b[0;34m\u001b[0m\u001b[0m\n\u001b[0;32m----> 3\u001b[0;31m \u001b[0mh\u001b[0m \u001b[0;34m=\u001b[0m \u001b[0mlist\u001b[0m\u001b[0;34m(\u001b[0m\u001b[0mmap\u001b[0m\u001b[0;34m(\u001b[0m\u001b[0mint\u001b[0m\u001b[0;34m,\u001b[0m \u001b[0;34m\"숫자입력 : '\"\u001b[0m\u001b[0;34m)\u001b[0m\u001b[0;34m)\u001b[0m\u001b[0;34m\u001b[0m\u001b[0;34m\u001b[0m\u001b[0m\n\u001b[0m\u001b[1;32m      4\u001b[0m \u001b[0mheapq\u001b[0m\u001b[0;34m.\u001b[0m\u001b[0mheapify\u001b[0m\u001b[0;34m(\u001b[0m\u001b[0mh\u001b[0m\u001b[0;34m)\u001b[0m\u001b[0;34m\u001b[0m\u001b[0;34m\u001b[0m\u001b[0m\n\u001b[1;32m      5\u001b[0m \u001b[0mprint\u001b[0m\u001b[0;34m(\u001b[0m\u001b[0;34m[\u001b[0m\u001b[0mheapq\u001b[0m\u001b[0;34m.\u001b[0m\u001b[0mheappop\u001b[0m\u001b[0;34m(\u001b[0m\u001b[0mh\u001b[0m\u001b[0;34m)\u001b[0m \u001b[0;32mfor\u001b[0m \u001b[0m_\u001b[0m \u001b[0;32min\u001b[0m \u001b[0mrange\u001b[0m\u001b[0;34m(\u001b[0m\u001b[0mlen\u001b[0m\u001b[0;34m(\u001b[0m\u001b[0mh\u001b[0m\u001b[0;34m)\u001b[0m \u001b[0;34m)\u001b[0m\u001b[0;34m]\u001b[0m\u001b[0;34m)\u001b[0m\u001b[0;34m\u001b[0m\u001b[0;34m\u001b[0m\u001b[0m\n",
            "\u001b[0;31mValueError\u001b[0m: invalid literal for int() with base 10: '숫'"
          ]
        }
      ]
    },
    {
      "cell_type": "markdown",
      "metadata": {
        "id": "0X7LB3XyT33d"
      },
      "source": [
        "#### 5) bisect\n",
        "- bisect 모듈은 정렬된 리스트에서 원하는 아이템을 끼워넣기할 위치를 이진탐색으로 찾는다.\n",
        "---\n",
        "- bisect_left(list, x) : list에서 x를 끼워넣기할 위치를 왼쪽에서 찾는다.\n",
        "- bisect_right(list, x) : list에서 x를 끼워넣기할 위치를 오른쪽에서 찾는다.\n",
        "- x의 값과 같은 값이 list에 존재하지 않는다면, 같은 결과를 반환함에 주의"
      ]
    },
    {
      "cell_type": "code",
      "metadata": {
        "colab": {
          "base_uri": "https://localhost:8080/"
        },
        "id": "3RxP3ZiGTjnv",
        "outputId": "b39bca6d-63c3-467b-e0c3-95fb6e655c62"
      },
      "source": [
        "# 이진탐색을 이용한 예제\n",
        "from bisect import *\n",
        "\n",
        "a = [1, 2, 2, 4, 5]\n",
        "print(bisect_left(a, 3))\n",
        "print(bisect_right(a, 3))\n",
        "print(bisect_left(a, 4))\n",
        "print(bisect_right(a, 4))"
      ],
      "execution_count": null,
      "outputs": [
        {
          "output_type": "stream",
          "text": [
            "3\n",
            "3\n",
            "3\n",
            "4\n"
          ],
          "name": "stdout"
        }
      ]
    },
    {
      "cell_type": "markdown",
      "metadata": {
        "id": "HqJjDxsUW6a0"
      },
      "source": [
        "#### 5) 실습"
      ]
    },
    {
      "cell_type": "code",
      "metadata": {
        "colab": {
          "base_uri": "https://localhost:8080/"
        },
        "id": "ladyuQQTVCTq",
        "outputId": "f64e9731-a94e-4003-ee0b-9ecc0b96c798"
      },
      "source": [
        "# 재귀함수로 순열 구하기\n",
        "\n",
        "# 재귀함수를 이용하여 리스트의 내용을 차례대로 순열로 출력하는 프로그램\n",
        "# ㄴ 리스트의 내용을 입력\n",
        "# ㄴ 순열출력할 개수를 입력 (리스트의 아이템 개수보다 작아야함)\n",
        "\n",
        "def perm(v, r, s = []):\n",
        "    if r == 0:\n",
        "        print(s)\n",
        "        return\n",
        "    for x in v:\n",
        "        if x in s: continue\n",
        "        perm(v, r-1, s + [x])\n",
        "\n",
        "v = [\"홍길동\", \"성춘향\", \"이몽룡\", \"변사또\"]\n",
        "r = 3\n",
        "perm(v, r)"
      ],
      "execution_count": null,
      "outputs": [
        {
          "output_type": "stream",
          "text": [
            "['홍길동', '성춘향', '이몽룡']\n",
            "['홍길동', '성춘향', '변사또']\n",
            "['홍길동', '이몽룡', '성춘향']\n",
            "['홍길동', '이몽룡', '변사또']\n",
            "['홍길동', '변사또', '성춘향']\n",
            "['홍길동', '변사또', '이몽룡']\n",
            "['성춘향', '홍길동', '이몽룡']\n",
            "['성춘향', '홍길동', '변사또']\n",
            "['성춘향', '이몽룡', '홍길동']\n",
            "['성춘향', '이몽룡', '변사또']\n",
            "['성춘향', '변사또', '홍길동']\n",
            "['성춘향', '변사또', '이몽룡']\n",
            "['이몽룡', '홍길동', '성춘향']\n",
            "['이몽룡', '홍길동', '변사또']\n",
            "['이몽룡', '성춘향', '홍길동']\n",
            "['이몽룡', '성춘향', '변사또']\n",
            "['이몽룡', '변사또', '홍길동']\n",
            "['이몽룡', '변사또', '성춘향']\n",
            "['변사또', '홍길동', '성춘향']\n",
            "['변사또', '홍길동', '이몽룡']\n",
            "['변사또', '성춘향', '홍길동']\n",
            "['변사또', '성춘향', '이몽룡']\n",
            "['변사또', '이몽룡', '홍길동']\n",
            "['변사또', '이몽룡', '성춘향']\n"
          ],
          "name": "stdout"
        }
      ]
    },
    {
      "cell_type": "code",
      "metadata": {
        "colab": {
          "base_uri": "https://localhost:8080/"
        },
        "id": "C1qLn8DiXsdT",
        "outputId": "f81e87dd-4445-4bc3-be00-8fd7401feefc"
      },
      "source": [
        "from itertools import permutations\n",
        "\n",
        "v = [\"홍길동\", \"성춘향\", \"이몽룡\", \"변사또\"]\n",
        "r = 2\n",
        "\n",
        "for result in permutations(v, r):\n",
        "    print(result)"
      ],
      "execution_count": null,
      "outputs": [
        {
          "output_type": "stream",
          "text": [
            "('홍길동', '성춘향')\n",
            "('홍길동', '이몽룡')\n",
            "('홍길동', '변사또')\n",
            "('성춘향', '홍길동')\n",
            "('성춘향', '이몽룡')\n",
            "('성춘향', '변사또')\n",
            "('이몽룡', '홍길동')\n",
            "('이몽룡', '성춘향')\n",
            "('이몽룡', '변사또')\n",
            "('변사또', '홍길동')\n",
            "('변사또', '성춘향')\n",
            "('변사또', '이몽룡')\n"
          ],
          "name": "stdout"
        }
      ]
    },
    {
      "cell_type": "code",
      "metadata": {
        "colab": {
          "base_uri": "https://localhost:8080/"
        },
        "id": "IttKyMB_Y5T1",
        "outputId": "27497125-6598-4165-c2c9-63777f09eb10"
      },
      "source": [
        "# 가장 긴 길이의 증가하는 부분 수열\n",
        "\n",
        "# bisect를 이용해서 풀어보도록 한다.\n",
        "# 백준 12015번 (11053이 조금 더 쉬움)\n",
        "\n",
        "# 1. 비어있는 리스트 하나 선언한다.\n",
        "# 2. 주어진 리스트를 차례대로 읽으면서 다음과 같은 작업을 한다.\n",
        "#   1) 리스트의 마지막 원소가 읽은 값보다 작은 경우\n",
        "#       : 읽은 값을 리스트의 맨 뒤에다 추가한다.\n",
        "#   2) 그렇지 않으면\n",
        "#       : 리스트에서 읽은 값을 끼워넣기 할 위치를 찾고,\n",
        "#           해당 위치에 읽은 값을 덮어씁니다.\n",
        "\n",
        "# LIS - Longest Incremental Sub sequence\n",
        "\n",
        "\n",
        "\n",
        "from bisect import bisect_left\n",
        "\n",
        "# 어느 리스트를 입력하던 가능하게 함 <= tip1\n",
        "list0 = list(map(int, input().split()))\n",
        "# 리스트 초기화를 위해 0을 삽입 <- tip2\n",
        "r_list = [0, ]\n",
        "# r_list = [ s[0] ]     # 첫 번째 수를 무조건 넣는 방법도 있음. - 나중에 그냥 출력해도 됨.\n",
        "\n",
        "for i in list0:\n",
        "    if r_list[-1] < i:  # length가 아니라 [-1]인덱스를 사용 <- tip3\n",
        "        r_list.append(i)\n",
        "    else:\n",
        "        index = bisect_left(r_list, i)\n",
        "        r_list[index] = i\n",
        "\n",
        "r_list.pop(0)\n",
        "print(r_list)\n",
        "# print(len(r_list) -1)"
      ],
      "execution_count": null,
      "outputs": [
        {
          "output_type": "stream",
          "text": [
            "1 7 4 2 3 6 4 9\n",
            "[1, 2, 3, 4, 9]\n"
          ],
          "name": "stdout"
        }
      ]
    },
    {
      "cell_type": "markdown",
      "metadata": {
        "id": "WxVK7oare7W_"
      },
      "source": [
        "```\n",
        "# 1 7 4 2 3 6 4 9 --> 1 2 3 6 9 --> 5\n",
        "\n",
        "[]\n",
        "\n",
        "1) 1\n",
        "[1]\n",
        "\n",
        "2) 7\n",
        "[1, 7]\n",
        "\n",
        "3) 4\n",
        "[1, 4]\n",
        "\n",
        "4) 2\n",
        "[1, 2]\n",
        "\n",
        "5) 3\n",
        "[1, 2, 3]\n",
        "\n",
        "6) 6\n",
        "[1, 2, 3, 6]\n",
        "\n",
        "7) 4\n",
        "[1, 2, 3, 4]\n",
        "\n",
        "8) 9\n",
        "[1, 2, 3, 4, 9]\n",
        "```\n",
        "\n",
        "\n"
      ]
    }
  ]
}