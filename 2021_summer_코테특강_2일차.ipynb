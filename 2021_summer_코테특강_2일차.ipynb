{
  "nbformat": 4,
  "nbformat_minor": 0,
  "metadata": {
    "colab": {
      "name": "2021_summer_코테특강_2일차.ipynb",
      "provenance": [],
      "collapsed_sections": [],
      "authorship_tag": "ABX9TyOtGbLvOmAecqkGV0RPsTEL",
      "include_colab_link": true
    },
    "kernelspec": {
      "name": "python3",
      "display_name": "Python 3"
    },
    "language_info": {
      "name": "python"
    }
  },
  "cells": [
    {
      "cell_type": "markdown",
      "metadata": {
        "id": "view-in-github",
        "colab_type": "text"
      },
      "source": [
        "<a href=\"https://colab.research.google.com/github/hayeon727/2021_summer_SWtest_python/blob/main/2021_summer_%EC%BD%94%ED%85%8C%ED%8A%B9%EA%B0%95_2%EC%9D%BC%EC%B0%A8.ipynb\" target=\"_parent\"><img src=\"https://colab.research.google.com/assets/colab-badge.svg\" alt=\"Open In Colab\"/></a>"
      ]
    },
    {
      "cell_type": "markdown",
      "metadata": {
        "id": "iNXButghTCgH"
      },
      "source": [
        "# 2021 하계 SW코테특강 파이썬 심화\n",
        "## 2일차\n",
        "### 1. 정렬\n",
        "#### 1) 정렬"
      ]
    },
    {
      "cell_type": "code",
      "metadata": {
        "id": "dypqtyVhS8oW"
      },
      "source": [
        "# 기본 정렬 : 선택, 삽입, 버블\n",
        "# 고급 정렬 : 합, 합병, 퀵"
      ],
      "execution_count": 1,
      "outputs": []
    },
    {
      "cell_type": "markdown",
      "metadata": {
        "id": "AjM_PVYTTkNu"
      },
      "source": [
        "#### 2) 기본정렬"
      ]
    },
    {
      "cell_type": "code",
      "metadata": {
        "id": "VVeazIHjTOEn"
      },
      "source": [
        "# 선택 정렬 : 배열에서 아직 정렬되지 않은 부분의 원소들 중에서 '최솟값을 선택'하여\n",
        "#           정렬된 부분의 바로 오른쪽 원소와 교환하는 정렬 알고리즘\n",
        "\n",
        "# 입력에 민감하지 않음\n",
        "# 효율성 낮음, 거의 활용x"
      ],
      "execution_count": 3,
      "outputs": []
    },
    {
      "cell_type": "code",
      "metadata": {
        "id": "7KaL75C9UUAO"
      },
      "source": [
        "# 삽입정렬 : 정렬 안된 부분의 가장 왼쪽 원소를 정렬된 부분에 '삽입'하는 방식.\n",
        "\n",
        "# 입력에 민감함 - 최선의 경우 O(N) 수행시간이 소요\n",
        "#            - 거의 정렬이 이뤄진 입력인 경우 유용 (Vs 고급정렬 소요시간 : O(NlogN))\n",
        "#            - 정렬이 이미 이루어진 리스트에 데이터에 추가되는 경우 유용\n",
        "\n",
        "# 고급정렬의 부분 소규모 정렬에 이용 - 입력 크기가 작은 경우에도 좋은 성능\n",
        "#                            - 간단한 알고리즘"
      ],
      "execution_count": 5,
      "outputs": []
    },
    {
      "cell_type": "code",
      "metadata": {
        "id": "GvNM3KG8WIfL"
      },
      "source": [
        "# 버블 정렬 : 선택정렬과 마찬가지로 가장 큰 원소를 오른쪽으로 옮기는 작업을 반복\n",
        "\n",
        "# 왼쪽부터 이웃한 수와 비교한다.\n",
        "# 이웃한 수가 작은 경우 두 수를 교환한다.\n",
        "# 마지막까지 작업이 마쳐지면 n을 줄여 반복한다.\n",
        "\n",
        "# 효율 떨어짐. 하나하나 진행하기 때문.\n",
        "\n",
        "# 데이터 이동속도가 느려서 효율이 떨어짐\n",
        "# 새로 데이터가 추가된 경우 이동거리가 멀면 여러 번 반복"
      ],
      "execution_count": 6,
      "outputs": []
    },
    {
      "cell_type": "markdown",
      "metadata": {
        "id": "fIxNXvVcUP7P"
      },
      "source": [
        "#### 3) 분할정복"
      ]
    },
    {
      "cell_type": "code",
      "metadata": {
        "colab": {
          "base_uri": "https://localhost:8080/",
          "height": 130
        },
        "id": "sTxFkQQvXPCq",
        "outputId": "be7037b3-9c8f-43b2-f6d3-c61fda3bade6"
      },
      "source": [
        "# 분할정복 알고리즘\n",
        "\n",
        "# 활용 : 합병정렬, 히스토그램 직사각형 넓이, 점 여러개 중 가장 짧은 거리를 가진 점의 쌍 구하기.\n",
        "\n",
        "# 주어진 문제의 입력을 분할하여 문제를 해결(정복)하는 방식의 알고리즘\n",
        "\n",
        "-----------------------------------------\n",
        "<분할정복이라고 무조건 효율이 좋아지는 것은 아니다.>\n",
        "\n",
        "sum([...c...])\n",
        "sum([ :c ]) + sum([ :c ])\n",
        "\n",
        "1. 분할정복이니 효율이 좋아졌다.\n",
        "2. 분할정복이지만 시간복잡도 효율은 같다. (V)\n",
        "\n",
        "T(n) = 2 T(n/2) + 1\n",
        "\n",
        "T(n) = n-1\n",
        "(좌변) = n-1\n",
        "(우변) = 2 (n/2 - 1) + 1 - n - 1\n",
        "T(n) = n-1\n",
        "\n",
        "=> 이렇게 따질 줄 알아야.\n",
        "-----------------------------------------\n",
        "\n",
        "# 분할정복 알고리즘\n",
        "\n",
        "# 문제가 a개로 분할되고, 부분문제의 크기가 1/b로 감소하는 알고리즘\n",
        "# a=b=2인 경우 : O(N^2) -> O(NlogN)\n",
        "# 아래 3개 경우 : 알파 O(N^2) -> 베타 O(N^2) [알파 < 베타]"
      ],
      "execution_count": 7,
      "outputs": [
        {
          "output_type": "error",
          "ename": "SyntaxError",
          "evalue": "ignored",
          "traceback": [
            "\u001b[0;36m  File \u001b[0;32m\"<ipython-input-7-2209069fcf99>\"\u001b[0;36m, line \u001b[0;32m7\u001b[0m\n\u001b[0;31m    -----------------------------------------\u001b[0m\n\u001b[0m                                             ^\u001b[0m\n\u001b[0;31mSyntaxError\u001b[0m\u001b[0;31m:\u001b[0m invalid syntax\n"
          ]
        }
      ]
    },
    {
      "cell_type": "markdown",
      "metadata": {
        "id": "yjrIHSUAarNX"
      },
      "source": [
        "#### 4) 고급정렬"
      ]
    },
    {
      "cell_type": "code",
      "metadata": {
        "id": "DSvIYBuUapoP"
      },
      "source": [
        "# 합병 정렬\n",
        "\n",
        "# 입력의 크기가 1/2로 줄고, 문제가 2개로 나누어지는 대표적인 분할 정복\n",
        "#   1 7 2 4 6 5 3 9 -> 1 7 2 4 / 6 5 3 9\n",
        "\n",
        "# -------------------------------------\n",
        "# 합병 시간 복잡도 : 두 개의 자료를 병합하는 과정\n",
        "#   가장 작은 값끼리 비교하여 작은 값을 선택해서 데이터 저장\n",
        "#   m+n-1번 비교 (마지막엔 비교 안하기 떄문에 -1)\n",
        "#   O(m+n)\n",
        "\n",
        "#   T(n) = O(n logn) ; 도출 과정 수학적으로 증명하지는 않음.\n",
        "\n",
        "# -------------------------------------\n",
        "# 병렬 처리에 적용 가능 -> 멀티 프로세스, 분산처리에 유용\n",
        "# 외부 정렬로 사용 가능 -> 대규모 데이터 정렬\n",
        "# 자료구조가 연결리스트인 겨우\n",
        "# 정적 정렬(static sort) 가능 (!!!!!!!코테!!!!!!!!!!!!!)\n",
        "#       - 고급정렬 중 유일하게 합병정렬만 정적정렬 가능.\n",
        "# 공간 복잡도가 O(n)으로 다른 고급정렬 O(1)에 비해 추가 공간 필요."
      ],
      "execution_count": 8,
      "outputs": []
    },
    {
      "cell_type": "code",
      "metadata": {
        "colab": {
          "base_uri": "https://localhost:8080/",
          "height": 130
        },
        "id": "gfH5ki80bfh5",
        "outputId": "913d6736-d8a4-419a-943a-c8ba4cf69051"
      },
      "source": [
        "T(n) = 2T(n/2) + n\n",
        "T(n) = n log n\n",
        "(좌변) = n log n\n",
        "(우변) = 2 (n/2 log n/2) + n\n",
        "      = n (log n - 1)"
      ],
      "execution_count": 9,
      "outputs": [
        {
          "output_type": "error",
          "ename": "SyntaxError",
          "evalue": "ignored",
          "traceback": [
            "\u001b[0;36m  File \u001b[0;32m\"<ipython-input-9-98b7ecea2a97>\"\u001b[0;36m, line \u001b[0;32m1\u001b[0m\n\u001b[0;31m    T(n) = 2T(n/2) + n\u001b[0m\n\u001b[0m            ^\u001b[0m\n\u001b[0;31mSyntaxError\u001b[0m\u001b[0;31m:\u001b[0m invalid syntax\n"
          ]
        }
      ]
    },
    {
      "cell_type": "code",
      "metadata": {
        "id": "TUTOgW9EcW4T"
      },
      "source": [
        "# 퀵 정렬\n",
        "\n",
        "# 기준 원소를 기준으로 데이터를 두 부분으로 나눈 다음\n",
        "# 각각의 부분을 정렬하는 분할 정복 알고리즘을 적용하는 정렬\n",
        "\n",
        "# 평균 속도가 가장 빠름\n",
        "# 기준 원소 선택에 따라 정렬 효율이 달라짐 (개선 방법  3-pivot)\n",
        "#                                           V ㅁㅁㅁ V ㅁㅁㅁ V"
      ],
      "execution_count": 10,
      "outputs": []
    },
    {
      "cell_type": "code",
      "metadata": {
        "id": "gm8TaTTMfJDX"
      },
      "source": [
        "# 힙 정렬\n",
        "\n",
        "# 힙의 리스트 표현법\n",
        "# 꽉찬 binary tree로 각각의 node값이 리스트 값으로 표현됨."
      ],
      "execution_count": null,
      "outputs": []
    },
    {
      "cell_type": "markdown",
      "metadata": {
        "id": "Vof8YcEthG0O"
      },
      "source": [
        "#### 5) 실습"
      ]
    },
    {
      "cell_type": "code",
      "metadata": {
        "colab": {
          "base_uri": "https://localhost:8080/"
        },
        "id": "LoUMudLnhIdg",
        "outputId": "47e44321-1217-4128-9c6f-fbec310950eb"
      },
      "source": [
        "# 퀵 정렬\n",
        "\n",
        "import time\n",
        "import random\n",
        "\n",
        "def _selectionSort(v, a, b):    # 선택 정렬\n",
        "    for i in range(a, b):\n",
        "        min = i\n",
        "        for j in range(i+1, b+1):\n",
        "            if v[min] > v[j]: min = j\n",
        "        v[i], v[min] = v[min], v[i]\n",
        "\n",
        "def selectionSort(v):\n",
        "    _selectionSort(v, 0, len(v) -1)\n",
        "\n",
        "\n",
        "def _mergeSort(v, a, b):    # 합병 정렬\n",
        "    if a==b: return     # 탈출 조건 (재귀함수이기 때문)\n",
        "    c = (a+b)//2\n",
        "    # _selectionSort(v, a, c)\n",
        "    # _selectionSort(v, c+1, b)\n",
        "    _mergeSort(v, a, c)     # 재귀함수\n",
        "    _mergeSort(v, c+1, b)\n",
        "\n",
        "    # 아래 과정이 성능 떨어뜨림 (리스트)\n",
        "    t = []      # merge의 단점 : temparary공간이 필요.\n",
        "    i, j = a, c+1\n",
        "    while i <= c and j <= b:\n",
        "        if v[i] <= v[j]:        # '<' : 합병정렬은 정적정렬 방식. 따라서 <=로 써야.\n",
        "            t.append(v[i])\n",
        "            i += 1\n",
        "        else:\n",
        "            t.append(v[j])\n",
        "            j += 1\n",
        "    while i <= c:\n",
        "        t.append(v[i])\n",
        "        i += 1\n",
        "    while j <= b:\n",
        "        t.append(v[j])\n",
        "        j += 1\n",
        "    for k in range(len(t)):\n",
        "        v[a+k] = t[k]   # 임시값을 원래에 복사. (복사 비용이 든다.)\n",
        "\n",
        "def mergeSort(v):\n",
        "    _mergeSort(v, 0, len(v)-1)\n",
        "\n",
        "n = int(input(\"n의 값을 입력 : \"))\n",
        "v = [ random.randint(1, 1000000) for _ in range(n) ]\n",
        "ts = time.time()\n",
        "mergeSort(v)\n",
        "et = int((time.time() - ts)*1000)  # 경과된 시간\n",
        "print(\"경과 시간 : %dms\"%et)"
      ],
      "execution_count": 29,
      "outputs": [
        {
          "output_type": "stream",
          "text": [
            "n의 값을 입력 : 20000\n",
            "경과 시간 : 127ms\n"
          ],
          "name": "stdout"
        }
      ]
    },
    {
      "cell_type": "code",
      "metadata": {
        "colab": {
          "base_uri": "https://localhost:8080/"
        },
        "id": "CocDgBKWkMFb",
        "outputId": "d29be555-e873-453b-be7a-8ebd128d478f"
      },
      "source": [
        "# 퀵 정렬\n",
        "\n",
        "import time\n",
        "import random\n",
        "\n",
        "def partition(v, a, b):\n",
        "    pivot = v[b]\n",
        "    i, j = a, b-1\n",
        "    while i <= j:\n",
        "        if v[i] <= pivot: i += 1       # 정적 정렬과 관련있는 것은 아님.\n",
        "        else:\n",
        "            v[i], v[j] = v[j], v[i]\n",
        "            j -= 1\n",
        "    v[i], v[b] = v[b], v[i]\n",
        "    return i\n",
        "\n",
        "def _quickSort(v, a, b):    # a부터 b까지 (포함관계)\n",
        "    if b <= a: return\n",
        "    c = partition(v, a, b)\n",
        "    _quickSort(v, a, c-1)   # 재귀함수일 때 탈출조건 필요\n",
        "    _quickSort(v, c+1, b)\n",
        "\n",
        "def quickSort(v):\n",
        "    _quickSort(v, 0, len(v)-1)\n",
        "\n",
        "n = int(input(\"n : \"))\n",
        "v = [ random.randint(1, 1000000) for _ in range(n) ]\n",
        "ts = time.time()\n",
        "quickSort(v)\n",
        "et = int((time.time() - ts)*1000)\n",
        "print(\"경과 시간 : %dms\"%et)        # 합병 정렬보다 시간 단축"
      ],
      "execution_count": 38,
      "outputs": [
        {
          "output_type": "stream",
          "text": [
            "n : 20000\n",
            "경과 시간 : 79ms\n"
          ],
          "name": "stdout"
        }
      ]
    },
    {
      "cell_type": "code",
      "metadata": {
        "colab": {
          "base_uri": "https://localhost:8080/"
        },
        "id": "OeaW2tHv-38o",
        "outputId": "0c0ba1d9-a2b2-43e8-e728-b65f7342a2e6"
      },
      "source": [
        "v[:10]"
      ],
      "execution_count": 36,
      "outputs": [
        {
          "output_type": "execute_result",
          "data": {
            "text/plain": [
              "[459, 470, 5781, 9901, 11417, 11837, 11904, 15269, 16435, 17686]"
            ]
          },
          "metadata": {
            "tags": []
          },
          "execution_count": 36
        }
      ]
    },
    {
      "cell_type": "code",
      "metadata": {
        "colab": {
          "base_uri": "https://localhost:8080/"
        },
        "id": "-tSWJu0y_DQH",
        "outputId": "f150e3d9-8748-44c0-a0c8-a00d0facaef0"
      },
      "source": [
        "v[-10:]"
      ],
      "execution_count": 37,
      "outputs": [
        {
          "output_type": "execute_result",
          "data": {
            "text/plain": [
              "[983132,\n",
              " 983357,\n",
              " 987368,\n",
              " 988688,\n",
              " 988890,\n",
              " 989496,\n",
              " 991970,\n",
              " 993022,\n",
              " 995351,\n",
              " 999055]"
            ]
          },
          "metadata": {
            "tags": []
          },
          "execution_count": 37
        }
      ]
    },
    {
      "cell_type": "code",
      "metadata": {
        "colab": {
          "base_uri": "https://localhost:8080/"
        },
        "id": "aTT33b7v_I3J",
        "outputId": "caebf1cf-2710-4c72-937d-16f5a76f7801"
      },
      "source": [
        "# 힙 정렬\n",
        "\n",
        "import heapq\n",
        "import random\n",
        "import time\n",
        "\n",
        "def heapSort(v):\n",
        "    heapq.heapify(v)    # 왼, 오 이진트리 각각 heap을 만족해야; heapify파일 ㄱㄴ\n",
        "    # 부모노드의 값은 자식보다 커야.\n",
        "    # 아래에서부터 heapify를 순차적으로 하면서, 결국 root에서 봤을 때 양쪽이 heapify가 되어있어야.\n",
        "    \n",
        "    t = [ heapq.heappop(v) for _ in range(len(v)) ]\n",
        "    return t\n",
        "\n",
        "n = int(input(\"n 입력 : \"))\n",
        "v = [ random.randint(1, 1000000) for _ in range(n) ]\n",
        "ts = time.time()\n",
        "v = heapSort(v)\n",
        "et = int((time.time() - ts)*1000)\n",
        "print(\"경과 시간(Elapsed time): %dms\"%et)\n",
        "\n",
        "# 파이썬에서 반복을 하면 성능 떨어짐\n",
        "#   -> itertools, module 등 라이브러리를 적절히 사용해야."
      ],
      "execution_count": 47,
      "outputs": [
        {
          "output_type": "stream",
          "text": [
            "n 입력 : 1000\n",
            "경과 시간(Elapsed time): 0ms\n"
          ],
          "name": "stdout"
        }
      ]
    },
    {
      "cell_type": "code",
      "metadata": {
        "colab": {
          "base_uri": "https://localhost:8080/"
        },
        "id": "4S-XNvrjC2QW",
        "outputId": "f9c64fd0-03c5-4ded-c014-0041fdb92c9e"
      },
      "source": [
        "v[:10]"
      ],
      "execution_count": 48,
      "outputs": [
        {
          "output_type": "execute_result",
          "data": {
            "text/plain": [
              "[2741, 3533, 4750, 4835, 5000, 5011, 5231, 5251, 5419, 6583]"
            ]
          },
          "metadata": {
            "tags": []
          },
          "execution_count": 48
        }
      ]
    },
    {
      "cell_type": "code",
      "metadata": {
        "colab": {
          "base_uri": "https://localhost:8080/"
        },
        "id": "2uBpkvZgDENg",
        "outputId": "3f7efef4-a6f4-4297-f141-d85b5751f2f0"
      },
      "source": [
        "v[-10:]"
      ],
      "execution_count": 49,
      "outputs": [
        {
          "output_type": "execute_result",
          "data": {
            "text/plain": [
              "[992008,\n",
              " 994440,\n",
              " 994555,\n",
              " 995272,\n",
              " 996015,\n",
              " 996180,\n",
              " 996543,\n",
              " 996778,\n",
              " 996909,\n",
              " 997503]"
            ]
          },
          "metadata": {
            "tags": []
          },
          "execution_count": 49
        }
      ]
    },
    {
      "cell_type": "code",
      "metadata": {
        "colab": {
          "base_uri": "https://localhost:8080/"
        },
        "id": "PWHtbiwfDUZ8",
        "outputId": "7a313c9e-2873-481d-9587-7b38e3a7d1f2"
      },
      "source": [
        "# 히스토그램에서 가장 넓은 직사각형 넓이 구하기\n",
        "# 분할 정복\n",
        "\n",
        "# 백준 사이트에 똑같은 문제 3-4개 있으니 풀어보길.\n",
        "# 1725번\n",
        "\n",
        "def _histogram(h, a, b):\n",
        "    if a == b: return h[a]\n",
        "    c = (a+b)//2\n",
        "    left = _histogram(h, a, c)\n",
        "    right = _histogram(h, c+1, b)\n",
        "    max = left\n",
        "    if max < right : max = right\n",
        "    minlen, len = min(h[c], h[c+1]), 2\n",
        "    if max < minlen * len: max = minlen * len\n",
        "    i, j = c-1, c+2\n",
        "    while i >= a and j <= b:\n",
        "        if h[i] > h[j]:\n",
        "            if h[i] < minlen: minlen = h[i]\n",
        "            len, i = len+1, i-1\n",
        "            if max < minlen*len: max = minlen*len\n",
        "        else:\n",
        "            if h[j] < minlen: minlen = h[j]\n",
        "            len, j = len+1, j+1\n",
        "            if max < minlen*len: max = minlen*len\n",
        "    while i >= a:   # 자투리 처리 (위에서 예외처리해도 됨)\n",
        "        if h[i] < minlen: minlen = h[i]\n",
        "        len, i = len+1, i-1\n",
        "        if max < minlen*len: max = minlen*len\n",
        "    while j <= b:   # 자투리 처리\n",
        "        if h[j] < minlen: minlen = h[j]\n",
        "        len, j = len+1, j+1\n",
        "        if max < minlen*len: max = minlen*len\n",
        "    return max\n",
        "    # 위는 합병정렬과 유사\n",
        "\n",
        "def histogram(h):\n",
        "    return _histogram(h, 0, len(h)-1)\n",
        "\n",
        "h = tuple(map(int, input().split()))\n",
        "\n",
        "print(histogram(h))\n",
        "\n",
        "# 백준 silver ~ gold 수준에서 코테 나옴.\n",
        "# 이건 Platinum인데, 요즘 삼성에서는 이정도도 가끔 나옴.\n",
        "\n",
        "# 함수이름은 변수이름을 사용 가능."
      ],
      "execution_count": 53,
      "outputs": [
        {
          "output_type": "stream",
          "text": [
            "3 2 4 3 2 3 4 1\n",
            "14\n"
          ],
          "name": "stdout"
        }
      ]
    },
    {
      "cell_type": "markdown",
      "metadata": {
        "id": "twV4cADjKjEc"
      },
      "source": [
        "### 2. 이진탐색트리\n",
        "(그렇게 많이 안나옴)"
      ]
    },
    {
      "cell_type": "code",
      "metadata": {
        "id": "AFWGqKnvGxp_"
      },
      "source": [
        "# 이진트리를 이용하여 원하는 정보를 빨리 찾을 수 있도록 하는 자료구조\n",
        "#   탐색은 키(key)를 이용하여 원하는 값(Value)을 찾음\n",
        "#   이진탐색트리에서의 노드에는 키와 값을 저장.\n",
        "\n",
        "# (ordered) BST (검색 시간 logN, 삽입 logN, 삭제 log N)\n",
        "# (unordered) HashTable"
      ],
      "execution_count": 54,
      "outputs": []
    },
    {
      "cell_type": "code",
      "metadata": {
        "id": "tsZTzQTCRB7a"
      },
      "source": [
        "def search(tree, key):\n",
        "    if tree == None: return None\n",
        "    if tree.key == key: return tree.value\n",
        "    if key < tree.key: return search(tree.left, key)\n",
        "    return search(tree.right, key)\n",
        "# 중복된 key가 있으면 검색 불가.\n",
        "# 딕셔너리에서 key 중복 불가한 것가 동일 원리. set(집합)도 마찬가지."
      ],
      "execution_count": 55,
      "outputs": []
    },
    {
      "cell_type": "code",
      "metadata": {
        "id": "N_g0cj_pRVPO"
      },
      "source": [
        "# 삭제(Delete)\n",
        "\n",
        "# 삭제하고자 하는 노드의 자식 개수에 따라 다르게 작동."
      ],
      "execution_count": null,
      "outputs": []
    },
    {
      "cell_type": "markdown",
      "metadata": {
        "id": "2kiwqSCMWKQQ"
      },
      "source": [
        "#### 3. 동적 프로그래밍"
      ]
    },
    {
      "cell_type": "code",
      "metadata": {
        "id": "g3SyzHDOWL5j"
      },
      "source": [
        "# 문제를 분할해서 풀고, 병합하여 해를 구함."
      ],
      "execution_count": 56,
      "outputs": []
    },
    {
      "cell_type": "code",
      "metadata": {
        "id": "tcAgYn-iX8FB"
      },
      "source": [
        "# 피보나치 수열 - 재귀함수로 구현. (점화식 이용)\n",
        "def fib(n):\n",
        "    if n == 0: return 0\n",
        "    if n == 1: return 1\n",
        "    return fib(n-1) + fib(n-2)\n",
        "\n",
        "# 피보나치 3이 몇번 호출이 될까? 라는 문제가 나올수도 있음.\n",
        "# -> 많은 중복 발생"
      ],
      "execution_count": 60,
      "outputs": []
    },
    {
      "cell_type": "code",
      "metadata": {
        "id": "HyEBEhNpYBBV"
      },
      "source": [
        "# oeis.org"
      ],
      "execution_count": 61,
      "outputs": []
    },
    {
      "cell_type": "code",
      "metadata": {
        "id": "ci_i-l41ZWJP"
      },
      "source": [
        "# 비재귀를 동적프로그램인 것처럼 소개하는 알고리즘 책 있으니 주의"
      ],
      "execution_count": 62,
      "outputs": []
    },
    {
      "cell_type": "code",
      "metadata": {
        "id": "CLzwIqUDaLLj"
      },
      "source": [
        "# 중복호출 해결 : 비재귀, 호출값 저장 후 다음에 사용, 수학적 접근, 행렬식 이용\n",
        "\n",
        "\n",
        "# 1. 비재귀 : 리스트\n",
        "\n",
        "# 2. 메모리 공간을 사용한 방법 : 1) 계산 후 저장하고, 2) 다음에 사용해서 리턴\n",
        "#       (꼭 순차가 아닐수도. 딕셔너리로도 가능.) <- ??\n",
        "#       (도메인 공간이 커서 리스트 만들기 어려운 경우 - 딕셔너리 - 필요한 것만 하자.)\n",
        "\n",
        "# 3. 수학적 접근 : phi = (1 + sqrt(5)) / 2 (황금비율; 피보나치 수열은 전항, 후항이 황금비.)\n",
        "#       f(n) = f(n-1) + f(n-2)\n",
        "#       f(n+2) = f(n+1) + f(n)\n",
        "#       f(n) = A*a^n 을 위 식에 대입하면, 황금비가 n의 해로 구해짐.\n",
        "\n",
        "# 4. 행렬을 이용한 접근 방법 : 두개의 항목을 벡터로 묶어서 행렬 계산\n"
      ],
      "execution_count": 63,
      "outputs": []
    },
    {
      "cell_type": "markdown",
      "metadata": {
        "id": "AE9lK6nMiQHm"
      },
      "source": [
        "#### [실습]\n",
        "1. 2xn 타일링"
      ]
    },
    {
      "cell_type": "code",
      "metadata": {
        "id": "NdrnsonZaSrd"
      },
      "source": [
        "# 2xn 타일링\n",
        "\n",
        "induction (??) --> 전기레인지?\n",
        "\n",
        "귀납법 vs. 연역법\n",
        "1. 경험에 의한 추론 --> 안맞는 경우가 생긴다\n",
        "2. A -> B, B -> C --> A -> ChildProcessError\n",
        "\n",
        "귀납법 (induction) vs. 귀납추론\n",
        "\n",
        "수학적 귀납법\n",
        "\n",
        "i) k = 1 인 경우에 증명\n",
        "ii) k = 1 ~ n 에 대해서 맞다고 가정을 한다.\n",
        "iii) k = n+1 에 i)과 ii)를 사용하여 증명을 한다.\n",
        "\n",
        "-----\n",
        "t(n) = ???\n",
        "\n",
        "i)\n",
        "t(1) = 1\n",
        "t(2) = 2\n",
        "\n",
        "ii)\n",
        "t(1) ~ t(n) 알고 있다고 가정\n",
        "\n",
        "iii)\n",
        "t(n+1) = t(n) + t(n-1)  # 피보나치 점화식과 유사\n",
        "\n",
        "2x1, 2x2\n",
        "t(n+1) = t(n) + 2t(n-1)"
      ],
      "execution_count": 64,
      "outputs": []
    },
    {
      "cell_type": "code",
      "metadata": {
        "colab": {
          "base_uri": "https://localhost:8080/"
        },
        "id": "YjJGd1ZzkVSS",
        "outputId": "f7f2e3a6-fc30-499e-e198-681de3ecac63"
      },
      "source": [
        "n = int(input(\"input 'n' : \"))\n",
        "\n",
        "tn = [1, 1]\n",
        "for _ in range(2, n+1, 2):\n",
        "    # tn[0] += tn[1]\n",
        "    # tn[1] += tn[0]\n",
        "    tn[0] = 2*t[0] + tn[1]\n",
        "    tn[1] = 2*tn[1] + tn[0]\n",
        "\n",
        "print(\"result : %d\"%tn[n%2])"
      ],
      "execution_count": 66,
      "outputs": [
        {
          "output_type": "stream",
          "text": [
            "input 'n' : 10\n",
            "result : 89\n"
          ],
          "name": "stdout"
        }
      ]
    },
    {
      "cell_type": "markdown",
      "metadata": {
        "id": "dPfLm9wnmMx6"
      },
      "source": [
        "2. 가장 긴 공통 부분 수열(LCS)구하기"
      ]
    },
    {
      "cell_type": "code",
      "metadata": {
        "colab": {
          "base_uri": "https://localhost:8080/"
        },
        "id": "BWX70DLQkidu",
        "outputId": "71426dc3-cea4-456e-e817-9577edf51745"
      },
      "source": [
        "a = input(\"a : \")\n",
        "b = input(\"b : \")\n",
        "na, nb = len(a), len(b)\n",
        "\n",
        "# v = [ [0]*(na+1) ]*(nb+1)   # 이것은 옳은 표현인가요?\n",
        "# v = [ [0 for _ in range(na+1) ] for _ in range(nb+1) ]\n",
        "v = [ [0]*(na+1) for _ in range(nb+1) ]\n",
        "\n",
        "for i in range(1, nb+1):\n",
        "    for j in range(1, na+1):\n",
        "        if a[j-1] == b[i-1]:\n",
        "            v[i][j] = v[i-1][j-1]+1\n",
        "        else:\n",
        "            v[i][j] = max(v[i-1][j], v[i][j-1])\n",
        "\n",
        "print(v[nb][na])\n",
        "\n",
        "# 2차원 리스트라고 볼 수 없음 -> nb+1이 Reference를 참조하고 있음"
      ],
      "execution_count": 78,
      "outputs": [
        {
          "output_type": "stream",
          "text": [
            "a : abcde\n",
            "b : abc\n",
            "3\n"
          ],
          "name": "stdout"
        }
      ]
    },
    {
      "cell_type": "markdown",
      "metadata": {
        "id": "LnX-ogERsE6D"
      },
      "source": [
        "3. 동전의 경우의 수 구하기"
      ]
    },
    {
      "cell_type": "code",
      "metadata": {
        "colab": {
          "base_uri": "https://localhost:8080/"
        },
        "id": "RkB-EHlOn9do",
        "outputId": "702e41e1-54d8-468d-d211-841ad36c5dd5"
      },
      "source": [
        "coins = list(map(int, input(\"동전의 종류 : \").split()))\n",
        "amount = int(input(\"금액 : \"))\n",
        "\n",
        "dp = [ 0 ] * (amount+1)\n",
        "dp[0] = 1\n",
        "\n",
        "for coin in coins:\n",
        "    for k in range(amount, 0, -1):\n",
        "        sum = dp[k]\n",
        "        for i in range(k-coin, -1, -coin):\n",
        "            sum += dp[i]\n",
        "        dp[k] = sum\n",
        "\n",
        "print(dp[-1])"
      ],
      "execution_count": 86,
      "outputs": [
        {
          "output_type": "stream",
          "text": [
            "동전의 종류 : 1 5 10\n",
            "금액 : 100\n",
            "121\n"
          ],
          "name": "stdout"
        }
      ]
    },
    {
      "cell_type": "code",
      "metadata": {
        "id": "Xz2p08k6tO3k"
      },
      "source": [
        "0^0 = 정의X\n",
        "(x+y)^n = sum nCk x^k y^(n-k)\n",
        "x^n = (x+0)^n = sum nCk x^k -^(n-k) = x^n\n",
        "\n",
        "0! = ???    0 or 1\n",
        "\n",
        "1 0 0 0 0 0 0 0 0 0 0"
      ],
      "execution_count": null,
      "outputs": []
    }
  ]
}